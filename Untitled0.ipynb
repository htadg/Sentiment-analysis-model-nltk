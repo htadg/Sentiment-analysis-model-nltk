{
 "metadata": {
  "name": "",
  "signature": "sha256:46e57233566bd27a6e3842ea6b9681c501853c3e03b0e291f9d4b12b4a314d56"
 },
 "nbformat": 3,
 "nbformat_minor": 0,
 "worksheets": [
  {
   "cells": [
    {
     "cell_type": "code",
     "collapsed": false,
     "input": [
      "import pandas as pd\n",
      "import os"
     ],
     "language": "python",
     "metadata": {},
     "outputs": [],
     "prompt_number": 1
    },
    {
     "cell_type": "code",
     "collapsed": false,
     "input": [
      "import gzip"
     ],
     "language": "python",
     "metadata": {},
     "outputs": [],
     "prompt_number": 2
    },
    {
     "cell_type": "code",
     "collapsed": false,
     "input": [
      "if not os.path.exists('beauty_reviews.csv'):\n",
      "    def parse(path):\n",
      "      g = gzip.open(path, 'rb')\n",
      "      for l in g:\n",
      "        yield eval(l)\n",
      "\n",
      "    def getDF(path):\n",
      "      i = 0\n",
      "      df = {}\n",
      "      for d in parse(path):\n",
      "        df[i] = d\n",
      "        i += 1\n",
      "      return pd.DataFrame.from_dict(df, orient='index')\n",
      "\n",
      "    df = getDF('reviews_Beauty_5.json.gz')\n",
      "else:\n",
      "    df = pd.read_csv('beauty_reviews.csv')"
     ],
     "language": "python",
     "metadata": {},
     "outputs": [],
     "prompt_number": 3
    },
    {
     "cell_type": "code",
     "collapsed": false,
     "input": [
      "print len(df)\n",
      "# df.to_csv('beauty_reviews.csv')"
     ],
     "language": "python",
     "metadata": {},
     "outputs": [
      {
       "output_type": "stream",
       "stream": "stdout",
       "text": [
        "198502\n"
       ]
      }
     ],
     "prompt_number": 4
    },
    {
     "cell_type": "code",
     "collapsed": false,
     "input": [
      "df_train, df_test = df[:150000], df[150000:]"
     ],
     "language": "python",
     "metadata": {},
     "outputs": [],
     "prompt_number": 5
    },
    {
     "cell_type": "code",
     "collapsed": false,
     "input": [
      "# df_train.head()\n",
      "print df[0:1]['overall']"
     ],
     "language": "python",
     "metadata": {},
     "outputs": [
      {
       "output_type": "stream",
       "stream": "stdout",
       "text": [
        "0    1.0\n",
        "Name: overall, dtype: float64\n"
       ]
      }
     ],
     "prompt_number": 6
    },
    {
     "cell_type": "code",
     "collapsed": false,
     "input": [
      "sentiments = []\n",
      "for d in df['overall']:\n",
      "    if d >= 3:\n",
      "        sentiments.append(1)\n",
      "    else:\n",
      "        sentiments.append(0)"
     ],
     "language": "python",
     "metadata": {},
     "outputs": [],
     "prompt_number": 7
    },
    {
     "cell_type": "code",
     "collapsed": false,
     "input": [
      "print len(sentiments)"
     ],
     "language": "python",
     "metadata": {},
     "outputs": [
      {
       "output_type": "stream",
       "stream": "stdout",
       "text": [
        "198502\n"
       ]
      }
     ],
     "prompt_number": 8
    },
    {
     "cell_type": "code",
     "collapsed": false,
     "input": [
      "df['sentiment'] = sentiments"
     ],
     "language": "python",
     "metadata": {},
     "outputs": [],
     "prompt_number": 9
    },
    {
     "cell_type": "code",
     "collapsed": false,
     "input": [
      "df.head()"
     ],
     "language": "python",
     "metadata": {},
     "outputs": [
      {
       "html": [
        "<div style=\"max-width:1500px;overflow:auto;\">\n",
        "<table border=\"1\" class=\"dataframe\">\n",
        "  <thead>\n",
        "    <tr style=\"text-align: right;\">\n",
        "      <th></th>\n",
        "      <th>Unnamed: 0</th>\n",
        "      <th>reviewerID</th>\n",
        "      <th>asin</th>\n",
        "      <th>reviewerName</th>\n",
        "      <th>helpful</th>\n",
        "      <th>unixReviewTime</th>\n",
        "      <th>reviewText</th>\n",
        "      <th>overall</th>\n",
        "      <th>reviewTime</th>\n",
        "      <th>summary</th>\n",
        "      <th>sentiment</th>\n",
        "    </tr>\n",
        "  </thead>\n",
        "  <tbody>\n",
        "    <tr>\n",
        "      <th>0</th>\n",
        "      <td>0</td>\n",
        "      <td>A1YJEY40YUW4SE</td>\n",
        "      <td>7806397051</td>\n",
        "      <td>Andrea</td>\n",
        "      <td>[3, 4]</td>\n",
        "      <td>1391040000</td>\n",
        "      <td>Very oily and creamy. Not at all what I expect...</td>\n",
        "      <td>1.0</td>\n",
        "      <td>01 30, 2014</td>\n",
        "      <td>Don't waste your money</td>\n",
        "      <td>0</td>\n",
        "    </tr>\n",
        "    <tr>\n",
        "      <th>1</th>\n",
        "      <td>1</td>\n",
        "      <td>A60XNB876KYML</td>\n",
        "      <td>7806397051</td>\n",
        "      <td>Jessica H.</td>\n",
        "      <td>[1, 1]</td>\n",
        "      <td>1397779200</td>\n",
        "      <td>This palette was a decent price and I was look...</td>\n",
        "      <td>3.0</td>\n",
        "      <td>04 18, 2014</td>\n",
        "      <td>OK Palette!</td>\n",
        "      <td>1</td>\n",
        "    </tr>\n",
        "    <tr>\n",
        "      <th>2</th>\n",
        "      <td>2</td>\n",
        "      <td>A3G6XNM240RMWA</td>\n",
        "      <td>7806397051</td>\n",
        "      <td>Karen</td>\n",
        "      <td>[0, 1]</td>\n",
        "      <td>1378425600</td>\n",
        "      <td>The texture of this concealer pallet is fantas...</td>\n",
        "      <td>4.0</td>\n",
        "      <td>09 6, 2013</td>\n",
        "      <td>great quality</td>\n",
        "      <td>1</td>\n",
        "    </tr>\n",
        "    <tr>\n",
        "      <th>3</th>\n",
        "      <td>3</td>\n",
        "      <td>A1PQFP6SAJ6D80</td>\n",
        "      <td>7806397051</td>\n",
        "      <td>Norah</td>\n",
        "      <td>[2, 2]</td>\n",
        "      <td>1386460800</td>\n",
        "      <td>I really can't tell what exactly this thing is...</td>\n",
        "      <td>2.0</td>\n",
        "      <td>12 8, 2013</td>\n",
        "      <td>Do not work on my face</td>\n",
        "      <td>0</td>\n",
        "    </tr>\n",
        "    <tr>\n",
        "      <th>4</th>\n",
        "      <td>4</td>\n",
        "      <td>A38FVHZTNQ271F</td>\n",
        "      <td>7806397051</td>\n",
        "      <td>Nova Amor</td>\n",
        "      <td>[0, 0]</td>\n",
        "      <td>1382140800</td>\n",
        "      <td>It was a little smaller than I expected, but t...</td>\n",
        "      <td>3.0</td>\n",
        "      <td>10 19, 2013</td>\n",
        "      <td>It's okay.</td>\n",
        "      <td>1</td>\n",
        "    </tr>\n",
        "  </tbody>\n",
        "</table>\n",
        "</div>"
       ],
       "metadata": {},
       "output_type": "pyout",
       "prompt_number": 10,
       "text": [
        "   Unnamed: 0      reviewerID        asin reviewerName helpful  \\\n",
        "0           0  A1YJEY40YUW4SE  7806397051       Andrea  [3, 4]   \n",
        "1           1   A60XNB876KYML  7806397051   Jessica H.  [1, 1]   \n",
        "2           2  A3G6XNM240RMWA  7806397051        Karen  [0, 1]   \n",
        "3           3  A1PQFP6SAJ6D80  7806397051        Norah  [2, 2]   \n",
        "4           4  A38FVHZTNQ271F  7806397051    Nova Amor  [0, 0]   \n",
        "\n",
        "   unixReviewTime                                         reviewText  overall  \\\n",
        "0      1391040000  Very oily and creamy. Not at all what I expect...      1.0   \n",
        "1      1397779200  This palette was a decent price and I was look...      3.0   \n",
        "2      1378425600  The texture of this concealer pallet is fantas...      4.0   \n",
        "3      1386460800  I really can't tell what exactly this thing is...      2.0   \n",
        "4      1382140800  It was a little smaller than I expected, but t...      3.0   \n",
        "\n",
        "    reviewTime                 summary  sentiment  \n",
        "0  01 30, 2014  Don't waste your money          0  \n",
        "1  04 18, 2014             OK Palette!          1  \n",
        "2   09 6, 2013           great quality          1  \n",
        "3   12 8, 2013  Do not work on my face          0  \n",
        "4  10 19, 2013              It's okay.          1  "
       ]
      }
     ],
     "prompt_number": 10
    },
    {
     "cell_type": "heading",
     "level": 1,
     "metadata": {},
     "source": [
      "Actual Work starts Here"
     ]
    },
    {
     "cell_type": "code",
     "collapsed": false,
     "input": [
      "import re, math, collections, itertools\n",
      "import nltk, nltk.classify.util, nltk.metrics\n",
      "from nltk.classify import NaiveBayesClassifier\n",
      "from nltk.metrics import BigramAssocMeasures\n",
      "from nltk.probability import FreqDist, ConditionalFreqDist"
     ],
     "language": "python",
     "metadata": {},
     "outputs": [],
     "prompt_number": 11
    },
    {
     "cell_type": "code",
     "collapsed": false,
     "input": [
      "def feature_select(words):\n",
      "    newWords = {}\n",
      "    for word in words:\n",
      "        if len(word) > 3: \n",
      "            newWords[str(word)] = words.count(word)\n",
      "    return newWords\n",
      "\n",
      "feature = []\n",
      "\n",
      "def getFeatures(d):\n",
      "    global feature\n",
      "    j = 0\n",
      "    for i in d['reviewText']:\n",
      "        words = re.findall(r\"[\\w']+|[.,!?;]\", str(i))\n",
      "        words = [feature_select(words), d['sentiment'][j]]\n",
      "        j += 1\n",
      "        feature.append(words)\n",
      "    d['reviewFeatures'] = feature"
     ],
     "language": "python",
     "metadata": {},
     "outputs": [],
     "prompt_number": 12
    },
    {
     "cell_type": "code",
     "collapsed": false,
     "input": [
      "getFeatures(df)"
     ],
     "language": "python",
     "metadata": {},
     "outputs": [],
     "prompt_number": 13
    },
    {
     "cell_type": "code",
     "collapsed": false,
     "input": [
      "df.head(2)"
     ],
     "language": "python",
     "metadata": {},
     "outputs": [
      {
       "html": [
        "<div style=\"max-width:1500px;overflow:auto;\">\n",
        "<table border=\"1\" class=\"dataframe\">\n",
        "  <thead>\n",
        "    <tr style=\"text-align: right;\">\n",
        "      <th></th>\n",
        "      <th>Unnamed: 0</th>\n",
        "      <th>reviewerID</th>\n",
        "      <th>asin</th>\n",
        "      <th>reviewerName</th>\n",
        "      <th>helpful</th>\n",
        "      <th>unixReviewTime</th>\n",
        "      <th>reviewText</th>\n",
        "      <th>overall</th>\n",
        "      <th>reviewTime</th>\n",
        "      <th>summary</th>\n",
        "      <th>sentiment</th>\n",
        "      <th>reviewFeatures</th>\n",
        "    </tr>\n",
        "  </thead>\n",
        "  <tbody>\n",
        "    <tr>\n",
        "      <th>0</th>\n",
        "      <td>0</td>\n",
        "      <td>A1YJEY40YUW4SE</td>\n",
        "      <td>7806397051</td>\n",
        "      <td>Andrea</td>\n",
        "      <td>[3, 4]</td>\n",
        "      <td>1391040000</td>\n",
        "      <td>Very oily and creamy. Not at all what I expect...</td>\n",
        "      <td>1.0</td>\n",
        "      <td>01 30, 2014</td>\n",
        "      <td>Don't waste your money</td>\n",
        "      <td>0</td>\n",
        "      <td>[{u'this': 1, u'what': 1, u'ordered': 1, u'jus...</td>\n",
        "    </tr>\n",
        "    <tr>\n",
        "      <th>1</th>\n",
        "      <td>1</td>\n",
        "      <td>A60XNB876KYML</td>\n",
        "      <td>7806397051</td>\n",
        "      <td>Jessica H.</td>\n",
        "      <td>[1, 1]</td>\n",
        "      <td>1397779200</td>\n",
        "      <td>This palette was a decent price and I was look...</td>\n",
        "      <td>3.0</td>\n",
        "      <td>04 18, 2014</td>\n",
        "      <td>OK Palette!</td>\n",
        "      <td>1</td>\n",
        "      <td>[{u'palette': 2, u'somewhat': 1, u'This': 2, u...</td>\n",
        "    </tr>\n",
        "  </tbody>\n",
        "</table>\n",
        "</div>"
       ],
       "metadata": {},
       "output_type": "pyout",
       "prompt_number": 14,
       "text": [
        "   Unnamed: 0      reviewerID        asin reviewerName helpful  \\\n",
        "0           0  A1YJEY40YUW4SE  7806397051       Andrea  [3, 4]   \n",
        "1           1   A60XNB876KYML  7806397051   Jessica H.  [1, 1]   \n",
        "\n",
        "   unixReviewTime                                         reviewText  overall  \\\n",
        "0      1391040000  Very oily and creamy. Not at all what I expect...      1.0   \n",
        "1      1397779200  This palette was a decent price and I was look...      3.0   \n",
        "\n",
        "    reviewTime                 summary  sentiment  \\\n",
        "0  01 30, 2014  Don't waste your money          0   \n",
        "1  04 18, 2014             OK Palette!          1   \n",
        "\n",
        "                                      reviewFeatures  \n",
        "0  [{u'this': 1, u'what': 1, u'ordered': 1, u'jus...  \n",
        "1  [{u'palette': 2, u'somewhat': 1, u'This': 2, u...  "
       ]
      }
     ],
     "prompt_number": 14
    },
    {
     "cell_type": "code",
     "collapsed": false,
     "input": [
      "df_train, df_test = df[:150000], df[150000:]"
     ],
     "language": "python",
     "metadata": {},
     "outputs": [],
     "prompt_number": 15
    },
    {
     "cell_type": "code",
     "collapsed": false,
     "input": [
      "trainFeatures = df_train['reviewFeatures']\n",
      "testFeatures = df_test['reviewFeatures']"
     ],
     "language": "python",
     "metadata": {},
     "outputs": [],
     "prompt_number": 16
    },
    {
     "cell_type": "code",
     "collapsed": false,
     "input": [
      "trainFeatures[0]"
     ],
     "language": "python",
     "metadata": {},
     "outputs": [
      {
       "metadata": {},
       "output_type": "pyout",
       "prompt_number": 17,
       "text": [
        "[{'FOREVER': 1,\n",
        "  'Plus': 1,\n",
        "  'Very': 1,\n",
        "  'arrive': 1,\n",
        "  'awful': 1,\n",
        "  'contour': 1,\n",
        "  'creamy': 1,\n",
        "  'expected': 1,\n",
        "  'highlight': 1,\n",
        "  'just': 1,\n",
        "  'looked': 1,\n",
        "  'oily': 1,\n",
        "  'ordered': 1,\n",
        "  'this': 1,\n",
        "  'took': 1,\n",
        "  'what': 1},\n",
        " 0]"
       ]
      }
     ],
     "prompt_number": 17
    },
    {
     "cell_type": "code",
     "collapsed": false,
     "input": [
      "classifier = NaiveBayesClassifier.train(trainFeatures)"
     ],
     "language": "python",
     "metadata": {},
     "outputs": [],
     "prompt_number": 18
    },
    {
     "cell_type": "code",
     "collapsed": false,
     "input": [
      "referenceSets = {'1':[],'0':[]}\n",
      "testSets = {'1':[],'0':[]}\n",
      "for i, (features, label) in enumerate(testFeatures):\n",
      "    referenceSets[str(label)].append(i)\n",
      "    predicted = classifier.classify(features)\n",
      "    testSets[str(predicted)].append(i)"
     ],
     "language": "python",
     "metadata": {},
     "outputs": [],
     "prompt_number": 19
    },
    {
     "cell_type": "code",
     "collapsed": false,
     "input": [
      "for d in referenceSets['1'][:10]:\n",
      "    print d\n",
      "print \"==========================\"\n",
      "for d in testSets['1'][:10]:\n",
      "    print d\n",
      "print \"==========================\"\n",
      "for d in referenceSets['0'][:10]:\n",
      "    print d\n",
      "print \"==========================\"\n",
      "for d in testSets['0'][:10]:\n",
      "    print d"
     ],
     "language": "python",
     "metadata": {},
     "outputs": [
      {
       "output_type": "stream",
       "stream": "stdout",
       "text": [
        "0\n",
        "1\n",
        "2\n",
        "3\n",
        "4\n",
        "5\n",
        "6\n",
        "8\n",
        "9\n",
        "10\n",
        "==========================\n",
        "0\n",
        "1\n",
        "2\n",
        "3\n",
        "4\n",
        "5\n",
        "6\n",
        "7\n",
        "8\n",
        "9\n",
        "==========================\n",
        "7\n",
        "11\n",
        "16\n",
        "17\n",
        "19\n",
        "23\n",
        "29\n",
        "37\n",
        "38\n",
        "62\n",
        "==========================\n",
        "16\n",
        "17\n",
        "19\n",
        "20\n",
        "37\n",
        "38\n",
        "44\n",
        "45\n",
        "75\n",
        "87\n"
       ]
      }
     ],
     "prompt_number": 20
    },
    {
     "cell_type": "code",
     "collapsed": false,
     "input": [
      "print 'train on %d instances, test on %d instances' % (len(trainFeatures), len(testFeatures))\n",
      "print 'accuracy:', nltk.classify.util.accuracy(classifier, testFeatures)\n",
      "# print 'pos precision:', nltk.metrics.scores.precision(referenceSets['1'], testSets['1'])\n",
      "# print 'pos recall:', nltk.metrics.scores.recall(referenceSets['1'], testSets['1'])\n",
      "# print 'neg precision:', nltk.metrics.scores.precision(referenceSets['0'], testSets['0'])\n",
      "# print 'neg recall:', nltk.metrics.scores.recall(referenceSets['0'], testSets['0'])\n",
      "classifier.show_most_informative_features(10)"
     ],
     "language": "python",
     "metadata": {},
     "outputs": [
      {
       "output_type": "stream",
       "stream": "stdout",
       "text": [
        "train on 150000 instances, test on 48502 instances\n",
        "accuracy: "
       ]
      },
      {
       "output_type": "stream",
       "stream": "stdout",
       "text": [
        "0.850975217517\n",
        "Most Informative Features\n",
        "                   WASTE = 1                   0 : 1      =    112.1 : 1.0"
       ]
      },
      {
       "output_type": "stream",
       "stream": "stdout",
       "text": [
        "\n",
        "                   Waste = 1                   0 : 1      =    104.2 : 1.0\n",
        "               insoluble = 1                   0 : 1      =     72.3 : 1.0\n",
        "                 surfers = 1                   0 : 1      =     67.3 : 1.0\n",
        "                    NANO = 1                   0 : 1      =     67.3 : 1.0\n",
        "                    30nm = 1                   0 : 1      =     67.3 : 1.0\n",
        "                UNCOATED = 1                   0 : 1      =     67.3 : 1.0\n",
        "                Terrible = 1                   0 : 1      =     65.6 : 1.0\n",
        "               Contacted = 1                   0 : 1      =     47.3 : 1.0\n",
        "                  Caused = 1                   0 : 1      =     47.3 : 1.0\n"
       ]
      }
     ],
     "prompt_number": 21
    },
    {
     "cell_type": "code",
     "collapsed": false,
     "input": [
      "def analyzeText(query):\n",
      "    queryFeatures = {}\n",
      "    words = re.findall(r\"[\\w']+|[.,!?;]\", str(query))\n",
      "    for word in words:\n",
      "        if len(word) > 3:\n",
      "           queryFeatures[str(word)] = words.count(word)\n",
      "    return queryFeatures"
     ],
     "language": "python",
     "metadata": {},
     "outputs": [],
     "prompt_number": 22
    },
    {
     "cell_type": "code",
     "collapsed": false,
     "input": [
      "def getPrediction(query):\n",
      "    features = analyzeText(query)\n",
      "    prediction = classifier.classify(features)\n",
      "    if prediction == 1:\n",
      "        return \"Positive\"\n",
      "    else:\n",
      "        return \"Negative\""
     ],
     "language": "python",
     "metadata": {},
     "outputs": [],
     "prompt_number": 23
    },
    {
     "cell_type": "heading",
     "level": 1,
     "metadata": {},
     "source": [
      "Now Some Real Tests.."
     ]
    },
    {
     "cell_type": "code",
     "collapsed": false,
     "input": [
      "prediction = getPrediction('Sentiment analysis with VADER has never been this good.')\n",
      "print prediction"
     ],
     "language": "python",
     "metadata": {},
     "outputs": [
      {
       "output_type": "stream",
       "stream": "stdout",
       "text": [
        "Positive\n"
       ]
      }
     ],
     "prompt_number": 24
    },
    {
     "cell_type": "code",
     "collapsed": false,
     "input": [
      "prediction = getPrediction('VADER sentiment analysis is the shit.')\n",
      "print prediction"
     ],
     "language": "python",
     "metadata": {},
     "outputs": [
      {
       "output_type": "stream",
       "stream": "stdout",
       "text": [
        "Negative\n"
       ]
      }
     ],
     "prompt_number": 25
    },
    {
     "cell_type": "code",
     "collapsed": false,
     "input": [
      "prediction = getPrediction(\"It was one of the worst movies I've seen, despite good reviews.\")\n",
      "print prediction"
     ],
     "language": "python",
     "metadata": {},
     "outputs": [
      {
       "output_type": "stream",
       "stream": "stdout",
       "text": [
        "Negative\n"
       ]
      }
     ],
     "prompt_number": 26
    },
    {
     "cell_type": "code",
     "collapsed": false,
     "input": [
      "prediction = getPrediction(\"Sentiment analysis with VADER has never been this good.\")\n",
      "print prediction"
     ],
     "language": "python",
     "metadata": {},
     "outputs": [
      {
       "output_type": "stream",
       "stream": "stdout",
       "text": [
        "Positive\n"
       ]
      }
     ],
     "prompt_number": 27
    },
    {
     "cell_type": "code",
     "collapsed": false,
     "input": [
      "import pickle"
     ],
     "language": "python",
     "metadata": {},
     "outputs": [],
     "prompt_number": 28
    },
    {
     "cell_type": "code",
     "collapsed": false,
     "input": [
      "filename = 'final_text_analysis_model.sav'\n",
      "pickle.dump(classifier, open(filename, 'wb'))"
     ],
     "language": "python",
     "metadata": {},
     "outputs": [],
     "prompt_number": 29
    },
    {
     "cell_type": "heading",
     "level": 1,
     "metadata": {},
     "source": [
      "Finally.......Every Shit Done Right!"
     ]
    },
    {
     "cell_type": "code",
     "collapsed": false,
     "input": [],
     "language": "python",
     "metadata": {},
     "outputs": []
    }
   ],
   "metadata": {}
  }
 ]
}